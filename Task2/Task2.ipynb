{
 "cells": [
  {
   "cell_type": "markdown",
   "metadata": {},
   "source": [
    "## Name: _Sergei Vostrikov_\n",
    "\n",
    "## EMR. Sensors. Problems"
   ]
  },
  {
   "cell_type": "markdown",
   "metadata": {},
   "source": [
    "## 3.1) Calculate wavelength of maximum of radiation from thermal source with T=600K "
   ]
  },
  {
   "cell_type": "markdown",
   "metadata": {},
   "source": [
    "According to the Wien's displacement law the wavelength maximum of radiation $\\lambda_{max} = b/T$, where $b$ -  is a constant of proportionality called Wien's displacement constant, equal to 2.8977729(17)×10−3 m⋅K"
   ]
  },
  {
   "cell_type": "code",
   "execution_count": 6,
   "metadata": {},
   "outputs": [
    {
     "name": "stdout",
     "output_type": "stream",
     "text": [
      "Maximum wavelength: 4830 nm\n"
     ]
    }
   ],
   "source": [
    "b = 2.897772917 * 10**(-3)\n",
    "T = 600\n",
    "print(\"Maximum wavelength:\", \"{:.0f}\".format(b/T * 10 ** 9), \"nm\")"
   ]
  },
  {
   "cell_type": "markdown",
   "metadata": {},
   "source": [
    "\n",
    "## 3.2) Calculate ground pixel size for a CCD sensor with cell size 7μm. Focal length of the camera is 100cm. Platform height is 500км. "
   ]
  },
  {
   "cell_type": "markdown",
   "metadata": {},
   "source": [
    "To make a calculation the thick lens formula $1/v + 1/u = 1/f$ and similar triangles properties will be used"
   ]
  },
  {
   "cell_type": "code",
   "execution_count": 13,
   "metadata": {},
   "outputs": [
    {
     "name": "stdout",
     "output_type": "stream",
     "text": [
      "Distance from the sensor to the lense 1000 mm\n",
      "Ground pixel size: 3.5 m\n"
     ]
    }
   ],
   "source": [
    "f = 100 * 10 ** (-2) # 100 cm focal distance\n",
    "v = 500 * 10 ** (3)  # 500 km height\n",
    "h = 7 * 10 ** (-6)   # pixel's size\n",
    "\n",
    "u = v * f/ (v - f)\n",
    "print(\"Distance from the sensor to the lense:\", \"{:.0f}\".format(u * 1000), \"mm\" )\n",
    "\n",
    "print(\"Ground pixel size:\", \"{:.1f}\".format(h / u * v),\"m\")"
   ]
  },
  {
   "cell_type": "markdown",
   "metadata": {},
   "source": [
    "## 3.3) What is the approximate resolution of a microwave antenna having an aperture of 1m(diameter) and orbiting at an altitude of 700 km. Working frequency 13.4GHz"
   ]
  },
  {
   "cell_type": "markdown",
   "metadata": {},
   "source": [
    "According to the Fraunhofer diffraction model the angle of difraction $\\alpha = \\lambda/D$"
   ]
  },
  {
   "cell_type": "code",
   "execution_count": 27,
   "metadata": {},
   "outputs": [
    {
     "name": "stdout",
     "output_type": "stream",
     "text": [
      "Wavelength: 2.2 cm\n",
      "Diffraction angle: 0.022 °\n",
      "Spatial resolution: 15672 m\n"
     ]
    }
   ],
   "source": [
    "f = 13.4 * 10 ** 9\n",
    "с = 3 * 10 ** 8\n",
    "D = 1\n",
    "h = 700 * 10 ** (3)\n",
    "\n",
    "wavelength = с/f\n",
    "print(\"Wavelength:\", \"{:.1f}\".format(wavelength * 100), \"cm\" )\n",
    "\n",
    "alpha = wavelength / D\n",
    "print(\"Diffraction angle:\", \"{:.3f}\".format(alpha), \"°\" )\n",
    "\n",
    "print(\"Spatial resolution:\", \"{:.0f}\".format(alpha * h), \"m\" )"
   ]
  },
  {
   "cell_type": "markdown",
   "metadata": {},
   "source": [
    "## 3.4) Estimate  rate of data stream generated from a pushbroom sensor having 8 spectral bands with 12bit radiometric resolution.  Swath width is 150км, GIFOV 5m"
   ]
  },
  {
   "cell_type": "markdown",
   "metadata": {},
   "source": [
    "![title](images/IFOV.jpg)"
   ]
  },
  {
   "cell_type": "code",
   "execution_count": 41,
   "metadata": {},
   "outputs": [
    {
     "name": "stdout",
     "output_type": "stream",
     "text": [
      "Number of pixels: 30000\n",
      "Data per one multispectral image: 122880 kbytes\n"
     ]
    }
   ],
   "source": [
    " # number of pixels = Swath width / GIFOV\n",
    "number_of_pixels = int(150 * 10 ** 3/5)\n",
    "data_per_full_image = int(8 * 2 ** 12 * number_of_pixels)\n",
    "\n",
    "print(\"Number of pixels:\", number_of_pixels)\n",
    "print(\"Data per one multispectral image:\", int(data_per_full_image/1000/8), \"kbytes\" )"
   ]
  },
  {
   "cell_type": "markdown",
   "metadata": {},
   "source": [
    "## 3.5)  Estimate temporal resolution of an imaging sensor with accessibility field of view 30 degrees. Orbit height ~ 500km "
   ]
  },
  {
   "cell_type": "markdown",
   "metadata": {},
   "source": [
    "From the 1st problem set orbital circular speed of the satellite with altitude 500 km is 1.59 hours.  "
   ]
  },
  {
   "cell_type": "code",
   "execution_count": 16,
   "metadata": {},
   "outputs": [
    {
     "name": "stdout",
     "output_type": "stream",
     "text": [
      "Swath width 267.949 km\n",
      "Number of orbits for full coverage: 150.1\n",
      "Time:  238.500 hours\n"
     ]
    }
   ],
   "source": [
    "R = 6400\n",
    "h = 500 # km\n",
    "fov = 30\n",
    "\n",
    "# Calculate swath width in km\n",
    "swath_w = 2 * math.tan(np.deg2rad(30/2)) * h\n",
    "print(\"Swath width\", \"{:.3f}\".format(swath_w), \"km\" )\n",
    "\n",
    "# Calculate number of swathes to cover\n",
    "N = 2 * np.pi * R/ swath_w\n",
    "print(\"Number of orbits for full coverage:\", \"{:.1f}\".format(N))\n",
    "\n",
    "\n",
    "# Calculate time in hours\n",
    "time = int(N + 0.5) * 1.59\n",
    "print(\"Time: \", \"{:.3f}\".format(time), \"hours\" )"
   ]
  },
  {
   "cell_type": "markdown",
   "metadata": {},
   "source": [
    "## 3.6) Ground pixel footprint in nadir is 1x1km. Estimate pixel size near the scan side ( sensor scan half-angle 55degrees). Use either flat or spherical** Earth model.  "
   ]
  },
  {
   "cell_type": "markdown",
   "metadata": {},
   "source": [
    "<img style=\"transform: rotate(-90deg); width:400px\" src=\"images/3_6_1.jpg\" alt=\"flat Earth\" title=\"Title text\" />"
   ]
  },
  {
   "cell_type": "code",
   "execution_count": 9,
   "metadata": {},
   "outputs": [
    {
     "name": "stdout",
     "output_type": "stream",
     "text": [
      "Ground pixel footprint: 3.0 x 1.7 squared km\n"
     ]
    }
   ],
   "source": [
    "import math\n",
    "import numpy as np\n",
    "\n",
    "beta = 55\n",
    "l_0 = 1 # km\n",
    "l = 2 * l_0/(1 + math.cos(np.deg2rad(2 * beta)))\n",
    "print(\"Ground pixel footprint:\", \"{:.1f}\".format(l), \"x\", \"{:.1f}\".format(l_0/math.cos(np.deg2rad(beta))), \"squared km\" )"
   ]
  }
 ],
 "metadata": {
  "kernelspec": {
   "display_name": "Python 3",
   "language": "python",
   "name": "python3"
  },
  "language_info": {
   "codemirror_mode": {
    "name": "ipython",
    "version": 3
   },
   "file_extension": ".py",
   "mimetype": "text/x-python",
   "name": "python",
   "nbconvert_exporter": "python",
   "pygments_lexer": "ipython3",
   "version": "3.6.6"
  }
 },
 "nbformat": 4,
 "nbformat_minor": 2
}
